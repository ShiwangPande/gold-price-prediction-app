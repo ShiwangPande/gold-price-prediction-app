{
 "cells": [
  {
   "cell_type": "code",
   "execution_count": 1,
   "id": "c1859e79",
   "metadata": {},
   "outputs": [],
   "source": [
    "import numpy as np\n",
    "import pandas as pd\n",
    "import matplotlib.pyplot as plt\n",
    "import seaborn as sns\n",
    "from sklearn.model_selection import train_test_split\n",
    "from sklearn.ensemble import RandomForestRegressor\n",
    "from sklearn.metrics import r2_score"
   ]
  },
  {
   "cell_type": "code",
   "execution_count": 2,
   "id": "d96071a5",
   "metadata": {},
   "outputs": [],
   "source": [
    "gold = pd.read_csv('gld_price_data.csv')"
   ]
  },
  {
   "cell_type": "code",
   "execution_count": 3,
   "id": "62059547",
   "metadata": {},
   "outputs": [
    {
     "data": {
      "text/html": [
       "<div>\n",
       "<style scoped>\n",
       "    .dataframe tbody tr th:only-of-type {\n",
       "        vertical-align: middle;\n",
       "    }\n",
       "\n",
       "    .dataframe tbody tr th {\n",
       "        vertical-align: top;\n",
       "    }\n",
       "\n",
       "    .dataframe thead th {\n",
       "        text-align: right;\n",
       "    }\n",
       "</style>\n",
       "<table border=\"1\" class=\"dataframe\">\n",
       "  <thead>\n",
       "    <tr style=\"text-align: right;\">\n",
       "      <th></th>\n",
       "      <th>Date</th>\n",
       "      <th>SPX</th>\n",
       "      <th>GLD</th>\n",
       "      <th>USO</th>\n",
       "      <th>SLV</th>\n",
       "      <th>EUR/USD</th>\n",
       "    </tr>\n",
       "  </thead>\n",
       "  <tbody>\n",
       "    <tr>\n",
       "      <th>0</th>\n",
       "      <td>1/2/2008</td>\n",
       "      <td>1447.160034</td>\n",
       "      <td>84.860001</td>\n",
       "      <td>78.470001</td>\n",
       "      <td>15.180</td>\n",
       "      <td>1.471692</td>\n",
       "    </tr>\n",
       "    <tr>\n",
       "      <th>1</th>\n",
       "      <td>1/3/2008</td>\n",
       "      <td>1447.160034</td>\n",
       "      <td>85.570000</td>\n",
       "      <td>78.370003</td>\n",
       "      <td>15.285</td>\n",
       "      <td>1.474491</td>\n",
       "    </tr>\n",
       "    <tr>\n",
       "      <th>2</th>\n",
       "      <td>1/4/2008</td>\n",
       "      <td>1411.630005</td>\n",
       "      <td>85.129997</td>\n",
       "      <td>77.309998</td>\n",
       "      <td>15.167</td>\n",
       "      <td>1.475492</td>\n",
       "    </tr>\n",
       "    <tr>\n",
       "      <th>3</th>\n",
       "      <td>1/7/2008</td>\n",
       "      <td>1416.180054</td>\n",
       "      <td>84.769997</td>\n",
       "      <td>75.500000</td>\n",
       "      <td>15.053</td>\n",
       "      <td>1.468299</td>\n",
       "    </tr>\n",
       "    <tr>\n",
       "      <th>4</th>\n",
       "      <td>1/8/2008</td>\n",
       "      <td>1390.189941</td>\n",
       "      <td>86.779999</td>\n",
       "      <td>76.059998</td>\n",
       "      <td>15.590</td>\n",
       "      <td>1.557099</td>\n",
       "    </tr>\n",
       "  </tbody>\n",
       "</table>\n",
       "</div>"
      ],
      "text/plain": [
       "       Date          SPX        GLD        USO     SLV   EUR/USD\n",
       "0  1/2/2008  1447.160034  84.860001  78.470001  15.180  1.471692\n",
       "1  1/3/2008  1447.160034  85.570000  78.370003  15.285  1.474491\n",
       "2  1/4/2008  1411.630005  85.129997  77.309998  15.167  1.475492\n",
       "3  1/7/2008  1416.180054  84.769997  75.500000  15.053  1.468299\n",
       "4  1/8/2008  1390.189941  86.779999  76.059998  15.590  1.557099"
      ]
     },
     "execution_count": 3,
     "metadata": {},
     "output_type": "execute_result"
    }
   ],
   "source": [
    "gold.head()"
   ]
  },
  {
   "cell_type": "markdown",
   "id": "36a3354b",
   "metadata": {},
   "source": [
    "# Getting some basic information about the data"
   ]
  },
  {
   "cell_type": "code",
   "execution_count": 4,
   "id": "83d6e366",
   "metadata": {},
   "outputs": [
    {
     "data": {
      "text/plain": [
       "(2290, 6)"
      ]
     },
     "execution_count": 4,
     "metadata": {},
     "output_type": "execute_result"
    }
   ],
   "source": [
    "gold.shape"
   ]
  },
  {
   "cell_type": "code",
   "execution_count": 5,
   "id": "d6e83d72",
   "metadata": {},
   "outputs": [
    {
     "name": "stdout",
     "output_type": "stream",
     "text": [
      "<class 'pandas.core.frame.DataFrame'>\n",
      "RangeIndex: 2290 entries, 0 to 2289\n",
      "Data columns (total 6 columns):\n",
      " #   Column   Non-Null Count  Dtype  \n",
      "---  ------   --------------  -----  \n",
      " 0   Date     2290 non-null   object \n",
      " 1   SPX      2290 non-null   float64\n",
      " 2   GLD      2290 non-null   float64\n",
      " 3   USO      2290 non-null   float64\n",
      " 4   SLV      2290 non-null   float64\n",
      " 5   EUR/USD  2290 non-null   float64\n",
      "dtypes: float64(5), object(1)\n",
      "memory usage: 107.5+ KB\n"
     ]
    }
   ],
   "source": [
    "gold.info()"
   ]
  },
  {
   "cell_type": "code",
   "execution_count": 6,
   "id": "1d85b76c",
   "metadata": {},
   "outputs": [
    {
     "data": {
      "text/plain": [
       "Date       0\n",
       "SPX        0\n",
       "GLD        0\n",
       "USO        0\n",
       "SLV        0\n",
       "EUR/USD    0\n",
       "dtype: int64"
      ]
     },
     "execution_count": 6,
     "metadata": {},
     "output_type": "execute_result"
    }
   ],
   "source": [
    "gold.isnull().sum()"
   ]
  },
  {
   "cell_type": "code",
   "execution_count": 7,
   "id": "3925a3ed",
   "metadata": {},
   "outputs": [
    {
     "data": {
      "text/html": [
       "<div>\n",
       "<style scoped>\n",
       "    .dataframe tbody tr th:only-of-type {\n",
       "        vertical-align: middle;\n",
       "    }\n",
       "\n",
       "    .dataframe tbody tr th {\n",
       "        vertical-align: top;\n",
       "    }\n",
       "\n",
       "    .dataframe thead th {\n",
       "        text-align: right;\n",
       "    }\n",
       "</style>\n",
       "<table border=\"1\" class=\"dataframe\">\n",
       "  <thead>\n",
       "    <tr style=\"text-align: right;\">\n",
       "      <th></th>\n",
       "      <th>SPX</th>\n",
       "      <th>GLD</th>\n",
       "      <th>USO</th>\n",
       "      <th>SLV</th>\n",
       "      <th>EUR/USD</th>\n",
       "    </tr>\n",
       "  </thead>\n",
       "  <tbody>\n",
       "    <tr>\n",
       "      <th>count</th>\n",
       "      <td>2290.000000</td>\n",
       "      <td>2290.000000</td>\n",
       "      <td>2290.000000</td>\n",
       "      <td>2290.000000</td>\n",
       "      <td>2290.000000</td>\n",
       "    </tr>\n",
       "    <tr>\n",
       "      <th>mean</th>\n",
       "      <td>1654.315776</td>\n",
       "      <td>122.732875</td>\n",
       "      <td>31.842221</td>\n",
       "      <td>20.084997</td>\n",
       "      <td>1.283653</td>\n",
       "    </tr>\n",
       "    <tr>\n",
       "      <th>std</th>\n",
       "      <td>519.111540</td>\n",
       "      <td>23.283346</td>\n",
       "      <td>19.523517</td>\n",
       "      <td>7.092566</td>\n",
       "      <td>0.131547</td>\n",
       "    </tr>\n",
       "    <tr>\n",
       "      <th>min</th>\n",
       "      <td>676.530029</td>\n",
       "      <td>70.000000</td>\n",
       "      <td>7.960000</td>\n",
       "      <td>8.850000</td>\n",
       "      <td>1.039047</td>\n",
       "    </tr>\n",
       "    <tr>\n",
       "      <th>25%</th>\n",
       "      <td>1239.874969</td>\n",
       "      <td>109.725000</td>\n",
       "      <td>14.380000</td>\n",
       "      <td>15.570000</td>\n",
       "      <td>1.171313</td>\n",
       "    </tr>\n",
       "    <tr>\n",
       "      <th>50%</th>\n",
       "      <td>1551.434998</td>\n",
       "      <td>120.580002</td>\n",
       "      <td>33.869999</td>\n",
       "      <td>17.268500</td>\n",
       "      <td>1.303297</td>\n",
       "    </tr>\n",
       "    <tr>\n",
       "      <th>75%</th>\n",
       "      <td>2073.010070</td>\n",
       "      <td>132.840004</td>\n",
       "      <td>37.827501</td>\n",
       "      <td>22.882500</td>\n",
       "      <td>1.369971</td>\n",
       "    </tr>\n",
       "    <tr>\n",
       "      <th>max</th>\n",
       "      <td>2872.870117</td>\n",
       "      <td>184.589996</td>\n",
       "      <td>117.480003</td>\n",
       "      <td>47.259998</td>\n",
       "      <td>1.598798</td>\n",
       "    </tr>\n",
       "  </tbody>\n",
       "</table>\n",
       "</div>"
      ],
      "text/plain": [
       "               SPX          GLD          USO          SLV      EUR/USD\n",
       "count  2290.000000  2290.000000  2290.000000  2290.000000  2290.000000\n",
       "mean   1654.315776   122.732875    31.842221    20.084997     1.283653\n",
       "std     519.111540    23.283346    19.523517     7.092566     0.131547\n",
       "min     676.530029    70.000000     7.960000     8.850000     1.039047\n",
       "25%    1239.874969   109.725000    14.380000    15.570000     1.171313\n",
       "50%    1551.434998   120.580002    33.869999    17.268500     1.303297\n",
       "75%    2073.010070   132.840004    37.827501    22.882500     1.369971\n",
       "max    2872.870117   184.589996   117.480003    47.259998     1.598798"
      ]
     },
     "execution_count": 7,
     "metadata": {},
     "output_type": "execute_result"
    }
   ],
   "source": [
    "gold.describe()"
   ]
  },
  {
   "cell_type": "markdown",
   "id": "8dfad2f0",
   "metadata": {},
   "source": [
    "# Correlation:"
   ]
  },
  {
   "cell_type": "code",
   "execution_count": 8,
   "id": "fd53a0c8",
   "metadata": {},
   "outputs": [],
   "source": [
    "correlation = gold.corr()"
   ]
  },
  {
   "cell_type": "code",
   "execution_count": 9,
   "id": "6d8395ef",
   "metadata": {},
   "outputs": [
    {
     "data": {
      "text/plain": [
       "<AxesSubplot:>"
      ]
     },
     "execution_count": 9,
     "metadata": {},
     "output_type": "execute_result"
    },
    {
     "data": {
      "image/png": "[encoded data removed]",
      "text/plain": [
       "<Figure size 432x432 with 2 Axes>"
      ]
     },
     "metadata": {
      "needs_background": "light"
     },
     "output_type": "display_data"
    }
   ],
   "source": [
    "plt.figure(figsize=(6,6))\n",
    "sns.heatmap(correlation,cbar=True,square=True,annot=True,annot_kws={\"size\":8}, cmap=\"plasma\")"
   ]
  },
  {
   "cell_type": "code",
   "execution_count": 10,
   "id": "7b6cb3b7",
   "metadata": {},
   "outputs": [
    {
     "name": "stdout",
     "output_type": "stream",
     "text": [
      "SPX        0.049345\n",
      "GLD        1.000000\n",
      "USO       -0.186360\n",
      "SLV        0.866632\n",
      "EUR/USD   -0.024375\n",
      "Name: GLD, dtype: float64\n"
     ]
    }
   ],
   "source": [
    "print(correlation['GLD'])"
   ]
  },
  {
   "cell_type": "code",
   "execution_count": 11,
   "id": "36b1199e",
   "metadata": {},
   "outputs": [
    {
     "data": {
      "text/plain": [
       "<seaborn.axisgrid.FacetGrid at 0x257d178d6a0>"
      ]
     },
     "execution_count": 11,
     "metadata": {},
     "output_type": "execute_result"
    },
    {
     "data": {
      "image/png": "[encoded data removed]",
      "text/plain": [
       "<Figure size 360x360 with 1 Axes>"
      ]
     },
     "metadata": {
      "needs_background": "light"
     },
     "output_type": "display_data"
    }
   ],
   "source": [
    "sns.displot(gold['GLD'],color='green')"
   ]
  },
  {
   "cell_type": "markdown",
   "id": "dfefd419",
   "metadata": {},
   "source": [
    "# Splitting the Feature and Target"
   ]
  },
  {
   "cell_type": "code",
   "execution_count": 12,
   "id": "022fc6f9",
   "metadata": {},
   "outputs": [],
   "source": [
    "X = gold.drop(['Date','GLD'],axis=1)\n",
    "y = gold['GLD']"
   ]
  },
  {
   "cell_type": "code",
   "execution_count": 13,
   "id": "e77d887d",
   "metadata": {},
   "outputs": [
    {
     "data": {
      "text/plain": [
       "(2290,)"
      ]
     },
     "execution_count": 13,
     "metadata": {},
     "output_type": "execute_result"
    }
   ],
   "source": [
    "y.shape"
   ]
  },
  {
   "cell_type": "markdown",
   "id": "8417ca9a",
   "metadata": {},
   "source": [
    "# Training the model"
   ]
  },
  {
   "cell_type": "code",
   "execution_count": 14,
   "id": "f39e5167",
   "metadata": {},
   "outputs": [],
   "source": [
    "X_train, X_test, y_train, y_test = train_test_split(X,y,test_size=0.2,random_state=42)"
   ]
  },
  {
   "cell_type": "code",
   "execution_count": 15,
   "id": "2ba004d7",
   "metadata": {},
   "outputs": [
    {
     "data": {
      "text/plain": [
       "0.9898382925372766"
      ]
     },
     "execution_count": 15,
     "metadata": {},
     "output_type": "execute_result"
    }
   ],
   "source": [
    "reg = RandomForestRegressor()\n",
    "reg.fit(X_train,y_train)\n",
    "pred = reg.predict(X_test)\n",
    "r2_score(y_test,pred)"
   ]
  },
  {
   "cell_type": "code",
   "execution_count": 16,
   "id": "3ff9932c",
   "metadata": {},
   "outputs": [
    {
     "name": "stdout",
     "output_type": "stream",
     "text": [
      "[122.43849958 130.65770285 127.5707999   96.63419743 119.03590071\n",
      " 114.45859924 124.84000147 117.80999932 107.92580107  98.28019957\n",
      "  95.58549923 167.83499881 150.42520161 116.33970095 171.01150229\n",
      "  85.07679979 123.4255987  110.23199746 112.98470063 131.63540245\n",
      " 124.30329873 113.55920121 115.817301   108.81089955 108.62010147\n",
      " 125.77849912 119.0930997  112.73959903 113.42520121 126.194999\n",
      " 145.89880051  89.51679987 167.59980011 113.6267993  108.68080124\n",
      " 120.25620099 142.04939868 161.38950267 174.30779812 153.33170144\n",
      " 119.60740092 113.27310056 121.33319925 113.65619938 121.97000018\n",
      " 107.93120083  88.19599904 114.60299897 129.92820246 117.90960101\n",
      " 104.29459966 129.90030244 107.09099842 160.75680379 131.49219974\n",
      " 118.39069964 147.08970054 134.1710023   95.40820108 124.56080135\n",
      " 114.97199826  85.98590078 104.27539916 113.81620051  84.16669932\n",
      " 122.18650036 116.53039939 113.81580181 165.13710262  92.34540038\n",
      "  80.33380084 160.86460071 158.78600201 106.55729995 150.64100115\n",
      " 109.75479738 122.77770053 128.62930137 113.10119827 120.1901008\n",
      " 135.85969675 107.52280066  93.87410104  92.7401988  111.42300042\n",
      " 118.37870005 108.62049942 112.15259988 167.50259875 161.38949916\n",
      " 107.43179928 125.38690023 108.11050036 115.09410202 126.67399798\n",
      " 108.33589944 163.32770242  84.60439866 131.52860237 114.67809967\n",
      " 155.15469991 110.17879779 113.89270001 107.58059998 139.61350067\n",
      "  88.19999946  92.44889899 175.54770131 118.96910059 118.87319982\n",
      " 121.23280047 171.46729818 131.68649973 119.85990069 157.01850182\n",
      " 118.87569819 119.20919961 110.75919935 119.69969953 122.06180033\n",
      " 129.05509917 114.83970011  89.40629923 114.04270127 131.9109994\n",
      " 115.47850115 124.83280005  90.96520005 106.65090099 117.17480127\n",
      " 109.56349943 166.23730219  80.53640051 121.77667508  72.92950147\n",
      " 111.3434991  100.56560098 124.14080017  75.71490011 125.00839952\n",
      " 120.05060054 105.38319991  90.40049932 131.52349979 137.11510255\n",
      " 176.18119994 126.58889944 126.3947992  123.20769994  92.07189846\n",
      " 150.76790146 102.92009878 117.67930001 134.93819832 135.78650026\n",
      " 118.23930028 116.83470153 102.20519781 124.09089901  89.92119933\n",
      " 108.24629937 117.79390074 166.8314012  117.30040068 117.61589982\n",
      " 155.60970182 111.21650014  87.19659922 116.64460132 124.35819941\n",
      " 120.60740218 118.33860018  96.60229865 109.21649958 114.94589966\n",
      " 127.70170087 156.26650088 108.01220097 123.84179893 139.58890161\n",
      "  91.09180095 118.03600137 130.2573004  113.91899916 108.30389923\n",
      " 119.15300042 127.95350023 125.88479988 145.49460104 112.46910034\n",
      "  93.65840014 115.14629992 125.41700064 120.64180184 122.34610079\n",
      "  92.77480065 121.71549872  93.34470041 118.95060011 124.40240007\n",
      " 121.82779985 131.35360052 124.35699918 114.99720139 127.46480086\n",
      " 113.54640082 165.66749933 122.32749783 119.71800177 113.4690005\n",
      " 120.1936994  120.0864997  105.90700105 116.8896005  125.81529844\n",
      " 172.0042986   85.60420005 134.73779842 127.78519857  73.49140073\n",
      " 119.22750001  88.73419974 163.76950209  92.40379987 159.64040172\n",
      " 102.29019857 102.90019956 102.51119878 118.54169918 165.5779013\n",
      " 120.31830139 135.57319925  96.62469803 112.92459931 132.27570081\n",
      " 145.36389936 125.85180009 101.49570005 125.33760052 160.17930115\n",
      " 119.690301   126.41660057 127.56650146 115.31959978 156.91530207\n",
      " 129.16529996 114.1308996  177.0127992  119.97640196 119.0982012\n",
      " 102.66629892 160.90920026 114.79510085 118.51879928 125.65089964\n",
      " 116.76810097 114.59209945  90.92739963 101.37019949 132.01700138\n",
      " 118.78310208 168.7383987  107.70090147  86.19350056  91.67889933\n",
      " 155.79559926 159.38140021 152.89199823  72.76449992 120.94010061\n",
      " 117.46530063 157.9123996  135.42029973 111.82249952 113.76929978\n",
      " 160.96000167 125.51089973 119.81910099 117.86610003 158.47040248\n",
      " 104.05719992  89.34799923  83.85679939  89.74439951 115.42640009\n",
      " 113.47429936 119.65740133 119.53470043  79.75760024  90.97880053\n",
      " 153.53430292 119.49360032 131.80670033 127.23730072 113.78730116\n",
      "  82.44560033 118.40469869  89.62530035 118.32109919 163.20880268\n",
      " 121.58300033 110.5862003  125.49619869 114.5119006  136.00070076\n",
      "  80.05000109 163.69039988 133.25160095 163.97480099 127.673099\n",
      "  91.72929943 108.28609919 113.97869938 128.0174013  119.36140161\n",
      "  92.5165995  132.49879936 162.70250131  72.24980183 111.69470033\n",
      " 108.51679954 113.59879827 120.28950091 111.9013999  120.44549999\n",
      " 118.49560191 126.21520068 125.92660132 109.37149974 167.85619996\n",
      " 166.29589901 112.25839921 169.44429758 112.00720018 161.52460049\n",
      " 127.50029847 167.37219863 136.57850148 109.26619851 167.26600011\n",
      " 116.94910151  72.66470105 113.41819993  93.19959958  87.78890027\n",
      " 104.18119902 126.08220057 123.61379773 167.99849862 121.27150032\n",
      "  87.22189899 131.42819757 121.82740035 107.36859945 167.0690993\n",
      " 126.05369788 127.3218008  113.5731013  136.45310084 125.08380121\n",
      " 144.01239837 123.08249945 118.84370017 120.62190011 166.95180078\n",
      "  71.54010056 163.09509938 166.09999855 118.27290025 103.45519802\n",
      " 127.8088992  154.08379961 172.04970001 135.14519777 126.80259957\n",
      " 123.69480031 154.37399895  87.85870002 131.03370179 110.89200092\n",
      " 164.62750035 156.48639939 166.45270065 121.60139946  89.95790053\n",
      " 132.0715017  100.07400016 127.5886976  127.69279896 108.57479926\n",
      "  91.02649903 153.27750088  95.26749857  87.72799888 124.91439945\n",
      "  87.08929803  94.38950089 113.52919952 156.56290317 147.15650042\n",
      " 105.2214001  166.19569691 111.21670012 128.40930041  90.87840002\n",
      " 109.96429947  76.2202011  110.73379978 163.82639932 153.45339926\n",
      " 152.43560165 162.02940081  92.20189851 117.78550155  93.47990128\n",
      " 129.76970052 117.66910047 117.3893999  124.28090038 120.89873795\n",
      "  97.82789946 165.51120028 145.76890194 124.44659849 169.35749835\n",
      "  84.16429998 166.55309757 130.43880237 119.90240204  88.38119979\n",
      " 120.26059833  83.6320985  118.68200125 113.43219941 116.52669941\n",
      " 154.45859831 134.45150391 118.34660099 119.00789815 123.38839863\n",
      " 115.76450126 118.56110017 122.17870048 146.91760084 152.08730113\n",
      " 168.89390075  98.25119898 160.22259949  93.19750055 140.48609948\n",
      " 121.21990056  83.91499879 106.48249943 123.41289987 169.39439629\n",
      "  93.71189903  96.30390058 152.84119999]\n"
     ]
    }
   ],
   "source": [
    "print(pred)"
   ]
  },
  {
   "cell_type": "code",
   "execution_count": 19,
   "id": "9c282b61",
   "metadata": {},
   "outputs": [],
   "source": [
    "y_test = list(y_test)"
   ]
  },
  {
   "cell_type": "code",
   "execution_count": 24,
   "id": "4de65aec",
   "metadata": {},
   "outputs": [
    {
     "data": {
      "image/png": "[encoded data removed]",
      "text/plain": [
       "<Figure size 432x288 with 1 Axes>"
      ]
     },
     "metadata": {
      "needs_background": "light"
     },
     "output_type": "display_data"
    }
   ],
   "source": [
    "plt.plot(y_test, color='blue', label = 'Actual Value')\n",
    "plt.plot(pred, color='green', label='Predicted Value')\n",
    "plt.title('Actual Price vs Predicted Price')\n",
    "plt.xlabel('Number of values')\n",
    "plt.ylabel('GLD Price')\n",
    "plt.legend()\n",
    "plt.show()"
   ]
  },
  {
   "cell_type": "code",
   "execution_count": null,
   "id": "2da8f83e",
   "metadata": {},
   "outputs": [],
   "source": []
  }
 ],
 "metadata": {
  "kernelspec": {
   "display_name": "Python 3 (ipykernel)",
   "language": "python",
   "name": "python3"
  },
  "language_info": {
   "codemirror_mode": {
    "name": "ipython",
    "version": 3
   },
   "file_extension": ".py",
   "mimetype": "text/x-python",
   "name": "python",
   "nbconvert_exporter": "python",
   "pygments_lexer": "ipython3",
   "version": "3.9.12"
  }
 },
 "nbformat": 4,
 "nbformat_minor": 5
}
