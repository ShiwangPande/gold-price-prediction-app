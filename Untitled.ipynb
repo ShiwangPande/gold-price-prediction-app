{
 "cells": [
  {
   "cell_type": "code",
   "execution_count": 43,
   "id": "c1859e79",
   "metadata": {},
   "outputs": [],
   "source": [
    "import numpy as np\n",
    "import pandas as pd\n",
    "import matplotlib.pyplot as plt\n",
    "import seaborn as sns\n",
    "from sklearn.model_selection import train_test_split\n",
    "from sklearn.ensemble import RandomForestRegressor\n",
    "from sklearn.metrics import r2_score"
   ]
  },
  {
   "cell_type": "code",
   "execution_count": 22,
   "id": "d96071a5",
   "metadata": {},
   "outputs": [],
   "source": [
    "gold = pd.read_csv('gld_price_data.csv')"
   ]
  },
  {
   "cell_type": "code",
   "execution_count": 23,
   "id": "62059547",
   "metadata": {},
   "outputs": [
    {
     "data": {
      "text/html": [
       "<div>\n",
       "<style scoped>\n",
       "    .dataframe tbody tr th:only-of-type {\n",
       "        vertical-align: middle;\n",
       "    }\n",
       "\n",
       "    .dataframe tbody tr th {\n",
       "        vertical-align: top;\n",
       "    }\n",
       "\n",
       "    .dataframe thead th {\n",
       "        text-align: right;\n",
       "    }\n",
       "</style>\n",
       "<table border=\"1\" class=\"dataframe\">\n",
       "  <thead>\n",
       "    <tr style=\"text-align: right;\">\n",
       "      <th></th>\n",
       "      <th>Date</th>\n",
       "      <th>SPX</th>\n",
       "      <th>GLD</th>\n",
       "      <th>USO</th>\n",
       "      <th>SLV</th>\n",
       "      <th>EUR/USD</th>\n",
       "    </tr>\n",
       "  </thead>\n",
       "  <tbody>\n",
       "    <tr>\n",
       "      <th>0</th>\n",
       "      <td>1/2/2008</td>\n",
       "      <td>1447.160034</td>\n",
       "      <td>84.860001</td>\n",
       "      <td>78.470001</td>\n",
       "      <td>15.180</td>\n",
       "      <td>1.471692</td>\n",
       "    </tr>\n",
       "    <tr>\n",
       "      <th>1</th>\n",
       "      <td>1/3/2008</td>\n",
       "      <td>1447.160034</td>\n",
       "      <td>85.570000</td>\n",
       "      <td>78.370003</td>\n",
       "      <td>15.285</td>\n",
       "      <td>1.474491</td>\n",
       "    </tr>\n",
       "    <tr>\n",
       "      <th>2</th>\n",
       "      <td>1/4/2008</td>\n",
       "      <td>1411.630005</td>\n",
       "      <td>85.129997</td>\n",
       "      <td>77.309998</td>\n",
       "      <td>15.167</td>\n",
       "      <td>1.475492</td>\n",
       "    </tr>\n",
       "    <tr>\n",
       "      <th>3</th>\n",
       "      <td>1/7/2008</td>\n",
       "      <td>1416.180054</td>\n",
       "      <td>84.769997</td>\n",
       "      <td>75.500000</td>\n",
       "      <td>15.053</td>\n",
       "      <td>1.468299</td>\n",
       "    </tr>\n",
       "    <tr>\n",
       "      <th>4</th>\n",
       "      <td>1/8/2008</td>\n",
       "      <td>1390.189941</td>\n",
       "      <td>86.779999</td>\n",
       "      <td>76.059998</td>\n",
       "      <td>15.590</td>\n",
       "      <td>1.557099</td>\n",
       "    </tr>\n",
       "  </tbody>\n",
       "</table>\n",
       "</div>"
      ],
      "text/plain": [
       "       Date          SPX        GLD        USO     SLV   EUR/USD\n",
       "0  1/2/2008  1447.160034  84.860001  78.470001  15.180  1.471692\n",
       "1  1/3/2008  1447.160034  85.570000  78.370003  15.285  1.474491\n",
       "2  1/4/2008  1411.630005  85.129997  77.309998  15.167  1.475492\n",
       "3  1/7/2008  1416.180054  84.769997  75.500000  15.053  1.468299\n",
       "4  1/8/2008  1390.189941  86.779999  76.059998  15.590  1.557099"
      ]
     },
     "execution_count": 23,
     "metadata": {},
     "output_type": "execute_result"
    }
   ],
   "source": [
    "gold.head()"
   ]
  },
  {
   "cell_type": "markdown",
   "id": "36a3354b",
   "metadata": {},
   "source": [
    "# Getting some basic information about the data"
   ]
  },
  {
   "cell_type": "code",
   "execution_count": 24,
   "id": "83d6e366",
   "metadata": {},
   "outputs": [
    {
     "data": {
      "text/plain": [
       "(2290, 6)"
      ]
     },
     "execution_count": 24,
     "metadata": {},
     "output_type": "execute_result"
    }
   ],
   "source": [
    "gold.shape"
   ]
  },
  {
   "cell_type": "code",
   "execution_count": 25,
   "id": "d6e83d72",
   "metadata": {},
   "outputs": [
    {
     "name": "stdout",
     "output_type": "stream",
     "text": [
      "<class 'pandas.core.frame.DataFrame'>\n",
      "RangeIndex: 2290 entries, 0 to 2289\n",
      "Data columns (total 6 columns):\n",
      " #   Column   Non-Null Count  Dtype  \n",
      "---  ------   --------------  -----  \n",
      " 0   Date     2290 non-null   object \n",
      " 1   SPX      2290 non-null   float64\n",
      " 2   GLD      2290 non-null   float64\n",
      " 3   USO      2290 non-null   float64\n",
      " 4   SLV      2290 non-null   float64\n",
      " 5   EUR/USD  2290 non-null   float64\n",
      "dtypes: float64(5), object(1)\n",
      "memory usage: 107.5+ KB\n"
     ]
    }
   ],
   "source": [
    "gold.info()"
   ]
  },
  {
   "cell_type": "code",
   "execution_count": 26,
   "id": "1d85b76c",
   "metadata": {},
   "outputs": [
    {
     "data": {
      "text/plain": [
       "Date       0\n",
       "SPX        0\n",
       "GLD        0\n",
       "USO        0\n",
       "SLV        0\n",
       "EUR/USD    0\n",
       "dtype: int64"
      ]
     },
     "execution_count": 26,
     "metadata": {},
     "output_type": "execute_result"
    }
   ],
   "source": [
    "gold.isnull().sum()"
   ]
  },
  {
   "cell_type": "code",
   "execution_count": 27,
   "id": "3925a3ed",
   "metadata": {},
   "outputs": [
    {
     "data": {
      "text/html": [
       "<div>\n",
       "<style scoped>\n",
       "    .dataframe tbody tr th:only-of-type {\n",
       "        vertical-align: middle;\n",
       "    }\n",
       "\n",
       "    .dataframe tbody tr th {\n",
       "        vertical-align: top;\n",
       "    }\n",
       "\n",
       "    .dataframe thead th {\n",
       "        text-align: right;\n",
       "    }\n",
       "</style>\n",
       "<table border=\"1\" class=\"dataframe\">\n",
       "  <thead>\n",
       "    <tr style=\"text-align: right;\">\n",
       "      <th></th>\n",
       "      <th>SPX</th>\n",
       "      <th>GLD</th>\n",
       "      <th>USO</th>\n",
       "      <th>SLV</th>\n",
       "      <th>EUR/USD</th>\n",
       "    </tr>\n",
       "  </thead>\n",
       "  <tbody>\n",
       "    <tr>\n",
       "      <th>count</th>\n",
       "      <td>2290.000000</td>\n",
       "      <td>2290.000000</td>\n",
       "      <td>2290.000000</td>\n",
       "      <td>2290.000000</td>\n",
       "      <td>2290.000000</td>\n",
       "    </tr>\n",
       "    <tr>\n",
       "      <th>mean</th>\n",
       "      <td>1654.315776</td>\n",
       "      <td>122.732875</td>\n",
       "      <td>31.842221</td>\n",
       "      <td>20.084997</td>\n",
       "      <td>1.283653</td>\n",
       "    </tr>\n",
       "    <tr>\n",
       "      <th>std</th>\n",
       "      <td>519.111540</td>\n",
       "      <td>23.283346</td>\n",
       "      <td>19.523517</td>\n",
       "      <td>7.092566</td>\n",
       "      <td>0.131547</td>\n",
       "    </tr>\n",
       "    <tr>\n",
       "      <th>min</th>\n",
       "      <td>676.530029</td>\n",
       "      <td>70.000000</td>\n",
       "      <td>7.960000</td>\n",
       "      <td>8.850000</td>\n",
       "      <td>1.039047</td>\n",
       "    </tr>\n",
       "    <tr>\n",
       "      <th>25%</th>\n",
       "      <td>1239.874969</td>\n",
       "      <td>109.725000</td>\n",
       "      <td>14.380000</td>\n",
       "      <td>15.570000</td>\n",
       "      <td>1.171313</td>\n",
       "    </tr>\n",
       "    <tr>\n",
       "      <th>50%</th>\n",
       "      <td>1551.434998</td>\n",
       "      <td>120.580002</td>\n",
       "      <td>33.869999</td>\n",
       "      <td>17.268500</td>\n",
       "      <td>1.303297</td>\n",
       "    </tr>\n",
       "    <tr>\n",
       "      <th>75%</th>\n",
       "      <td>2073.010070</td>\n",
       "      <td>132.840004</td>\n",
       "      <td>37.827501</td>\n",
       "      <td>22.882500</td>\n",
       "      <td>1.369971</td>\n",
       "    </tr>\n",
       "    <tr>\n",
       "      <th>max</th>\n",
       "      <td>2872.870117</td>\n",
       "      <td>184.589996</td>\n",
       "      <td>117.480003</td>\n",
       "      <td>47.259998</td>\n",
       "      <td>1.598798</td>\n",
       "    </tr>\n",
       "  </tbody>\n",
       "</table>\n",
       "</div>"
      ],
      "text/plain": [
       "               SPX          GLD          USO          SLV      EUR/USD\n",
       "count  2290.000000  2290.000000  2290.000000  2290.000000  2290.000000\n",
       "mean   1654.315776   122.732875    31.842221    20.084997     1.283653\n",
       "std     519.111540    23.283346    19.523517     7.092566     0.131547\n",
       "min     676.530029    70.000000     7.960000     8.850000     1.039047\n",
       "25%    1239.874969   109.725000    14.380000    15.570000     1.171313\n",
       "50%    1551.434998   120.580002    33.869999    17.268500     1.303297\n",
       "75%    2073.010070   132.840004    37.827501    22.882500     1.369971\n",
       "max    2872.870117   184.589996   117.480003    47.259998     1.598798"
      ]
     },
     "execution_count": 27,
     "metadata": {},
     "output_type": "execute_result"
    }
   ],
   "source": [
    "gold.describe()"
   ]
  },
  {
   "cell_type": "markdown",
   "id": "8dfad2f0",
   "metadata": {},
   "source": [
    "# Correlation:"
   ]
  },
  {
   "cell_type": "code",
   "execution_count": 28,
   "id": "fd53a0c8",
   "metadata": {},
   "outputs": [],
   "source": [
    "correlation = gold.corr()"
   ]
  },
  {
   "cell_type": "code",
   "execution_count": 29,
   "id": "6d8395ef",
   "metadata": {},
   "outputs": [
    {
     "data": {
      "text/plain": [
       "<AxesSubplot:>"
      ]
     },
     "execution_count": 29,
     "metadata": {},
     "output_type": "execute_result"
    },
    {
     "data": {
      "image/png": "[encoded data removed]",
      "text/plain": [
       "<Figure size 432x432 with 2 Axes>"
      ]
     },
     "metadata": {
      "needs_background": "light"
     },
     "output_type": "display_data"
    }
   ],
   "source": [
    "plt.figure(figsize=(6,6))\n",
    "sns.heatmap(correlation,cbar=True,square=True,annot=True,annot_kws={\"size\":8}, cmap=\"plasma\")"
   ]
  },
  {
   "cell_type": "code",
   "execution_count": 30,
   "id": "7b6cb3b7",
   "metadata": {},
   "outputs": [
    {
     "name": "stdout",
     "output_type": "stream",
     "text": [
      "SPX        0.049345\n",
      "GLD        1.000000\n",
      "USO       -0.186360\n",
      "SLV        0.866632\n",
      "EUR/USD   -0.024375\n",
      "Name: GLD, dtype: float64\n"
     ]
    }
   ],
   "source": [
    "print(correlation['GLD'])"
   ]
  },
  {
   "cell_type": "code",
   "execution_count": 31,
   "id": "36b1199e",
   "metadata": {},
   "outputs": [
    {
     "data": {
      "text/plain": [
       "<seaborn.axisgrid.FacetGrid at 0x2d0907e7b50>"
      ]
     },
     "execution_count": 31,
     "metadata": {},
     "output_type": "execute_result"
    },
    {
     "data": {
      "image/png": "[encoded data removed]",
      "text/plain": [
       "<Figure size 360x360 with 1 Axes>"
      ]
     },
     "metadata": {
      "needs_background": "light"
     },
     "output_type": "display_data"
    }
   ],
   "source": [
    "sns.displot(gold['GLD'],color='green')"
   ]
  },
  {
   "cell_type": "markdown",
   "id": "dfefd419",
   "metadata": {},
   "source": [
    "# Splitting the Feature and Target"
   ]
  },
  {
   "cell_type": "code",
   "execution_count": 34,
   "id": "022fc6f9",
   "metadata": {},
   "outputs": [],
   "source": [
    "X = gold.drop(['Date','GLD'],axis=1)\n",
    "y = gold['GLD']"
   ]
  },
  {
   "cell_type": "code",
   "execution_count": 35,
   "id": "e77d887d",
   "metadata": {},
   "outputs": [
    {
     "data": {
      "text/plain": [
       "(2290,)"
      ]
     },
     "execution_count": 35,
     "metadata": {},
     "output_type": "execute_result"
    }
   ],
   "source": [
    "y.shape"
   ]
  },
  {
   "cell_type": "markdown",
   "id": "8417ca9a",
   "metadata": {},
   "source": [
    "# Training the model"
   ]
  },
  {
   "cell_type": "code",
   "execution_count": 41,
   "id": "f39e5167",
   "metadata": {},
   "outputs": [],
   "source": [
    "X_train, X_test, y_train, y_test = train_test_split(X,y,test_size=0.2,random_state=42)"
   ]
  },
  {
   "cell_type": "code",
   "execution_count": 44,
   "id": "2ba004d7",
   "metadata": {},
   "outputs": [
    {
     "data": {
      "text/plain": [
       "0.9906030724391215"
      ]
     },
     "execution_count": 44,
     "metadata": {},
     "output_type": "execute_result"
    }
   ],
   "source": [
    "reg = RandomForestRegressor()\n",
    "reg.fit(X_train,y_train)\n",
    "pred = reg.predict(X_test)\n",
    "r2_score(y_test,pred)"
   ]
  },
  {
   "cell_type": "code",
   "execution_count": 45,
   "id": "3ff9932c",
   "metadata": {},
   "outputs": [
    {
     "name": "stdout",
     "output_type": "stream",
     "text": [
      "[122.50569933 130.51300292 127.52939957  96.6862975  118.89980036\n",
      " 114.5739994  124.81330134 117.70739954 108.00400088  98.39959974\n",
      "  95.56079942 167.67259812 149.58300095 115.97880026 170.93970207\n",
      "  85.19509943 123.21559879 109.07919729 113.367301   131.57850333\n",
      " 124.22039904 113.68940054 115.67450098 108.65189928 108.68930173\n",
      " 125.86389949 119.54219961 112.26209937 113.33210152 125.80819892\n",
      " 146.02900198  89.41829983 167.80950041 113.4989999  108.48840068\n",
      " 120.17460101 141.70449815 161.47000148 173.55279796 153.27820149\n",
      " 119.15030102 113.75270049 121.3849991  113.59319917 122.10930026\n",
      " 107.9655007   88.37279907 114.26149929 130.00610236 117.89630109\n",
      " 103.90160015 129.99420225 107.08259839 161.03610343 131.55409995\n",
      " 118.17869976 147.07880077 134.39080262  95.77470123 124.91650148\n",
      " 115.36769879  86.20870048 104.15959906 113.75970066  84.05769924\n",
      " 122.29890033 116.66539893 113.45680209 165.80280375  92.37810029\n",
      "  80.2677008  160.8722011  158.42000209 107.06100007 149.26380098\n",
      " 109.28629772 122.95630016 128.22360122 113.52209927 120.11540076\n",
      " 136.02939753 107.21500066  93.86760102  92.66369874 111.16349997\n",
      " 118.51590024 108.61409944 112.23909996 168.06169913 161.12319881\n",
      " 107.4490987  125.22990017 108.24499989 115.11960198 126.91109784\n",
      " 108.28809979 161.76930273  84.23639867 131.37490364 114.41570014\n",
      " 155.98579966 110.2845984  113.87419982 107.58859973 138.6151999\n",
      "  88.37179988  92.47579875 175.6490015  118.89730058 118.63430006\n",
      " 121.2794     171.24259713 131.61670012 119.63150076 157.04750268\n",
      " 118.79609855 119.33689959 110.4906994  120.0894994  122.09550008\n",
      " 129.01499842 114.81330013  89.64499946 114.41520131 131.83549893\n",
      " 115.46370118 125.19049992  91.01560061 106.86230049 117.30880133\n",
      " 109.31199945 166.40920266  80.45590088 121.86519897  72.77610147\n",
      " 111.32599903 100.45060099 124.19639991  75.88229986 124.92089944\n",
      " 119.8618005  105.00529988  90.67599963 131.72269964 136.89270245\n",
      " 176.26239974 126.63809935 126.35089889 123.5545997   92.0385985\n",
      " 149.60520151 102.85139917 117.43479983 134.00969841 135.70029941\n",
      " 118.2006006  116.9980015  102.19379815 124.10069935  89.81109941\n",
      " 108.13779959 117.61580034 168.21900009 117.12170075 117.35279949\n",
      " 155.54240114 111.2698004   87.31339904 116.41080125 124.22669914\n",
      " 120.74660226 118.28370021  96.48849835 109.21079976 114.975799\n",
      " 127.50620132 155.86450109 108.0130009  124.05099891 139.67650213\n",
      "  90.97400055 118.05530105 130.17650079 113.82769912 108.3221995\n",
      " 119.16980026 127.90270014 125.37880032 144.80570197 112.5318007\n",
      "  93.58029972 115.13430016 125.61720046 120.34760157 122.34250103\n",
      "  92.71820068 121.32269884  93.28420041 119.08080029 124.67950025\n",
      " 121.88540026 131.64310038 124.31199934 114.70050145 127.44409991\n",
      " 113.41180063 165.31279944 122.35439777 119.55730207 113.7974006\n",
      " 120.07090014 120.23079982 105.88030073 116.72830036 125.84489961\n",
      " 171.99909687  85.67109999 134.42809731 127.87229846  73.94650065\n",
      " 119.29039984  88.81549958 162.22590177  92.1094994  158.67610148\n",
      " 102.27409827 102.91359948 102.50309881 118.43229976 165.36950143\n",
      " 120.13600129 135.30989853  96.58499827 113.14149952 132.38600139\n",
      " 145.66530077 125.74050004 101.54830018 125.36630073 160.15310077\n",
      " 119.98080126 126.45430107 127.55290064 115.42299928 157.13960215\n",
      " 128.84740036 114.11369953 177.02739896 119.88640193 118.98380122\n",
      " 102.81889902 160.97429941 114.79620079 118.43899968 125.67699943\n",
      " 116.85290101 114.77169976  90.90709969 101.02049973 132.05750003\n",
      " 118.83420197 167.58709804 108.19560086  86.38230042  91.71339919\n",
      " 156.06609926 155.77419986 152.81979774  72.6177996  120.94010096\n",
      " 117.27110039 158.18489972 135.30049889 111.80400003 113.79659968\n",
      " 160.75220139 125.40239978 119.8408009  117.59139999 158.45310238\n",
      " 104.03789979  89.52749923  83.62349935  90.11719954 115.56750007\n",
      " 113.63609988 119.46930113 119.62720076  78.91630008  90.85890091\n",
      " 153.62210247 119.54030031 132.09039986 126.20480045 113.78250151\n",
      "  82.29820073 117.89849889  89.56930035 117.76569984 163.27750235\n",
      " 121.52330112 110.45689957 125.53059861 114.54470072 135.8356005\n",
      "  80.21880101 163.57789943 132.34100066 163.93280074 127.69369892\n",
      "  91.76799866 108.3811992  113.94819956 127.68140145 119.24370172\n",
      "  92.52259965 132.25029901 162.64150089  72.25030177 112.12870037\n",
      " 108.24619982 113.76749827 120.42860113 111.84519978 120.58390005\n",
      " 118.46590213 126.23220078 125.89380124 109.23889994 167.01690048\n",
      " 166.18549936 112.28019933 169.46829663 111.90300004 161.06490277\n",
      " 127.45449855 167.36899961 134.82260116 109.19929871 167.15039989\n",
      " 116.63880142  72.3787011  113.499       93.37779969  87.76970004\n",
      " 104.10689874 125.6809002  123.4685977  168.07799856 121.14330062\n",
      "  87.24089857 131.60819814 121.7195003  107.22699959 167.38639938\n",
      " 126.00279799 127.12420109 113.65380039 134.42860066 125.14240104\n",
      " 144.48689888 123.25189924 118.42299995 120.72770037 166.59340004\n",
      "  71.72010078 163.0025997  166.48859797 118.38100095 103.74809815\n",
      " 128.14249911 154.02089999 171.91440062 135.07279715 126.91929968\n",
      " 123.94940035 152.7510976   87.83179953 130.90600176 110.86320075\n",
      " 164.8447001  156.60669879 167.1753006  121.63409942  89.90400024\n",
      " 132.20170173  99.4881995  127.49019852 127.86699857 108.48449973\n",
      "  90.98369894 153.37340097  95.14469871  87.90799893 124.93729937\n",
      "  87.2366982   94.53300073 113.48169946 156.36660342 147.16890034\n",
      " 105.19889976 166.8996976  111.37460003 128.17790078  90.77210017\n",
      " 109.5667995   75.92320117 110.7264999  163.7622987  154.83749885\n",
      " 152.49500153 161.84260059  92.17179862 118.14760143  93.38890106\n",
      " 130.20010095 117.38600018 117.61550038 124.41980022 120.72450008\n",
      "  98.00859946 168.2495009  145.00490121 124.64279859 169.00399842\n",
      "  84.37900023 166.69849824 130.69860258 119.91430207  88.6058999\n",
      " 119.98209898  83.71239879 118.82080105 113.80459941 116.79539914\n",
      " 154.77939783 134.10870317 118.04590144 118.79299894 123.16149868\n",
      " 116.22870106 118.44410032 122.20230028 144.2746005  150.7931006\n",
      " 167.92350118  97.98099937 160.1537993   93.22630017 140.74719994\n",
      " 121.38840088  84.15559883 106.33509985 123.62379967 169.4214961\n",
      "  93.29099874  96.81970072 153.51610079]\n"
     ]
    }
   ],
   "source": [
    "print(pred)"
   ]
  },
  {
   "cell_type": "code",
   "execution_count": null,
   "id": "9c282b61",
   "metadata": {},
   "outputs": [],
   "source": []
  }
 ],
 "metadata": {
  "kernelspec": {
   "display_name": "Python 3 (ipykernel)",
   "language": "python",
   "name": "python3"
  },
  "language_info": {
   "codemirror_mode": {
    "name": "ipython",
    "version": 3
   },
   "file_extension": ".py",
   "mimetype": "text/x-python",
   "name": "python",
   "nbconvert_exporter": "python",
   "pygments_lexer": "ipython3",
   "version": "3.9.12"
  }
 },
 "nbformat": 4,
 "nbformat_minor": 5
}
